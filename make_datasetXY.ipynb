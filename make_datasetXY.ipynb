{
 "cells": [
  {
   "cell_type": "code",
   "execution_count": 100,
   "metadata": {},
   "outputs": [],
   "source": [
    "import pandas as pd"
   ]
  },
  {
   "cell_type": "code",
   "execution_count": 101,
   "metadata": {},
   "outputs": [],
   "source": [
    "# 데이터프레임 컬럼 이름 열 만들기\n",
    "col_first = []\n",
    "col_second = []\n",
    "for i in range(99):\n",
    "    col_first.append(\"before_\"+str(i))\n",
    "    col_second.append(\"now_\"+str(i))\n",
    "col_first.append(\"before_r_k_a\")\n",
    "col_first.append(\"before_l_k_a\")\n",
    "col_first.append(\"before_b_a\")\n",
    "col_second.append(\"now_r_k_a\")\n",
    "col_second.append(\"now_l_k_a\")\n",
    "col_second.append(\"now_b_a\")\n",
    "col_name = col_first+col_second"
   ]
  },
  {
   "cell_type": "code",
   "execution_count": 102,
   "metadata": {},
   "outputs": [],
   "source": [
    "left_right = [\"left_\", \"right_\"]\n",
    "name_list = [\"chaeyun\", \"chanwoo\", \"inseo\", \"jaehoon\", \"jeongwoo\", \"junho\", \"kihyun\", \"suho\", \"sunghyun\", \"wonyoung\"]\n",
    "lf_rf = [\"_lf\",\"_rf\"]"
   ]
  },
  {
   "cell_type": "code",
   "execution_count": 118,
   "metadata": {},
   "outputs": [
    {
     "name": "stdout",
     "output_type": "stream",
     "text": [
      "(175, 204)\n",
      "(204, 204)\n",
      "(216, 204)\n",
      "(160, 204)\n",
      "(147, 204)\n",
      "(213, 204)\n",
      "(192, 204)\n",
      "(231, 204)\n",
      "(212, 204)\n",
      "(192, 204)\n",
      "(179, 204)\n",
      "(195, 204)\n",
      "(225, 204)\n",
      "(213, 204)\n",
      "(161, 204)\n",
      "(476, 204)\n",
      "(242, 204)\n",
      "(277, 204)\n",
      "(181, 204)\n",
      "(298, 204)\n"
     ]
    }
   ],
   "source": [
    "for lf in left_right:\n",
    "    for name in name_list:\n",
    "        df = pd.read_csv(\"./key_points/\"+lf+name+\".csv\")\n",
    "        df.drop('Unnamed: 0', axis=1, inplace=True)\n",
    "        # 바로 전 frame의 라벨도 넣기 위해 합친다\n",
    "        df_new = df.drop(0,axis=0)\n",
    "        df_new.reset_index(drop=True, inplace=True)\n",
    "        df.drop(df.index[-1],inplace=True)\n",
    "        result = pd.concat([df,df_new],axis=1)\n",
    "        result.columns = col_name\n",
    "        print(result.shape)\n",
    "        # Y없이 우선 X만 데이터 저장\n",
    "        result.to_csv(\"./X_dataset/\"+lf+name+\".csv\")"
   ]
  },
  {
   "cell_type": "code",
   "execution_count": 104,
   "metadata": {},
   "outputs": [],
   "source": [
    "# XY 합친 csv파일 제작, label 2 삭제, -1인 값들 제거\n",
    "for lf in left_right:\n",
    "    for name in name_list:\n",
    "        for ff in lf_rf:\n",
    "            keypoints = pd.read_csv(\"./X_dataset/\"+lf+name+\".csv\")\n",
    "            label = pd.read_csv(\"./label/\"+lf+name+ff+\".csv\")\n",
    "            keypoints.index.name = \"frame_idx\"\n",
    "            keypoints.drop(\"Unnamed: 0\", axis = 1, inplace=True)\n",
    "            label.set_index(\"frame_idx\", inplace=True)\n",
    "            label.loc[label['label'] == 3, 'label'] = 2\n",
    "            label.loc[label['label'] == 4, 'label'] = 3\n",
    "            label.loc[label['label'] == 5, 'label'] = 4\n",
    "\n",
    "            XY_data = keypoints.join(label, how='inner')\n",
    "            XY_data.drop(XY_data[XY_data['before_0'] == -1].index, inplace=True)\n",
    "            XY_data.drop(XY_data[XY_data['label'] == -1].index, inplace=True)\n",
    "            XY_data.to_csv(\"./XY_dataset/\"+lf+name+ff+\".csv\")\n"
   ]
  }
 ],
 "metadata": {
  "kernelspec": {
   "display_name": "base",
   "language": "python",
   "name": "python3"
  },
  "language_info": {
   "codemirror_mode": {
    "name": "ipython",
    "version": 3
   },
   "file_extension": ".py",
   "mimetype": "text/x-python",
   "name": "python",
   "nbconvert_exporter": "python",
   "pygments_lexer": "ipython3",
   "version": "3.11.3"
  }
 },
 "nbformat": 4,
 "nbformat_minor": 2
}
